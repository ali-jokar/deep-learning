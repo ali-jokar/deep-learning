{
  "cells": [
    {
      "cell_type": "code",
      "execution_count": null,
      "metadata": {
        "id": "2Go4UvbZlliK"
      },
      "outputs": [],
      "source": [
        "import numpy as np\n",
        "import os\n",
        "from sklearn.model_selection import train_test_split\n",
        "from sklearn.preprocessing import StandardScaler, MinMaxScaler\n",
        "import tensorflow as tf\n",
        "from tensorflow.keras import models, layers, optimizers\n",
        "from tensorflow.keras.utils import to_categorical\n",
        "import matplotlib.pyplot as plt"
      ]
    },
    {
      "cell_type": "code",
      "execution_count": null,
      "metadata": {
        "id": "8rTfBhKrmDJU"
      },
      "outputs": [],
      "source": [
        "dir = '/content/SMG'\n",
        "class_names = ['A_TXT', 'N_TXT']\n",
        "class_var = []\n",
        "channel_val = []\n",
        "\n",
        "for folder_name in os.listdir(dir):\n",
        "    folder_path = os.path.join(dir, folder_name)\n",
        "    if os.path.isdir(folder_path) and folder_name in class_names:\n",
        "        for file_name in os.listdir(folder_path):\n",
        "            i = 0\n",
        "            file_path = os.path.join(folder_path, file_name)\n",
        "            with open(file_path, \"r\") as file:\n",
        "                for _ in range(7):\n",
        "                    next(file)\n",
        "                for line in file:\n",
        "                    i = i+1\n",
        "                    if not line.strip():\n",
        "                        continue\n",
        "                    h = line.strip()\n",
        "                    values = line.split()[:5]\n",
        "                    if len(values) < 5:\n",
        "                        continue\n",
        "                    values = [float(value) for value in values]\n",
        "                    channel_val.append(values)\n",
        "                    name = folder_name\n",
        "                    index = class_names.index(name)\n",
        "                    class_var.append(index)\n",
        "channel_val = np.array(channel_val)\n",
        "class_var = np.array(class_var)"
      ]
    },
    {
      "cell_type": "code",
      "execution_count": null,
      "metadata": {
        "id": "pfWLQONXmE2R"
      },
      "outputs": [],
      "source": [
        "x_train = channel_val[:, :4]\n",
        "y_train = channel_val[:,4]\n",
        "\n",
        "length = len(channel_val)\n",
        "df = 2\n",
        "\n",
        "X = []\n",
        "Y = []\n",
        "\n",
        "for i in range(length - df):\n",
        "    x = np.concatenate([x_train[i+j] for j in range(df)])\n",
        "    X.append(x)\n",
        "    Y.append(y_train[i + df])\n",
        "\n",
        "X = np.array(X)\n",
        "Y = np.array(Y)\n",
        "\n",
        "x1_train = X\n",
        "y1_train = Y"
      ]
    },
    {
      "cell_type": "code",
      "execution_count": null,
      "metadata": {
        "colab": {
          "base_uri": "https://localhost:8080/"
        },
        "id": "5DG5Z-uamK83",
        "outputId": "772eff2e-8512-4ce1-c835-21ffebb11fcf"
      },
      "outputs": [
        {
          "data": {
            "text/plain": [
              "(1325043, 8)"
            ]
          },
          "execution_count": 4,
          "metadata": {},
          "output_type": "execute_result"
        }
      ],
      "source": [
        "x1_train.shape"
      ]
    },
    {
      "cell_type": "code",
      "execution_count": null,
      "metadata": {
        "colab": {
          "base_uri": "https://localhost:8080/"
        },
        "id": "1sNfGWFPmOgG",
        "outputId": "12660894-2953-4d3c-d7d6-eb8dec9e1a0e"
      },
      "outputs": [
        {
          "data": {
            "text/plain": [
              "(1325043,)"
            ]
          },
          "execution_count": 5,
          "metadata": {},
          "output_type": "execute_result"
        }
      ],
      "source": [
        "y1_train.shape"
      ]
    },
    {
      "cell_type": "code",
      "execution_count": null,
      "metadata": {
        "id": "fDTrLU8YmbwF"
      },
      "outputs": [],
      "source": [
        "# Split the data into training and testing sets\n",
        "x1_train, x1_val, y1_train, y1_val = train_test_split(x1_train, y1_train, test_size=0.15, random_state=42)\n",
        "\n",
        "# scaling train data\n",
        "scaler = StandardScaler()\n",
        "x1_train = scaler.fit_transform(x1_train)\n",
        "x1_val = scaler.transform(x1_val)"
      ]
    },
    {
      "cell_type": "code",
      "execution_count": null,
      "metadata": {
        "colab": {
          "base_uri": "https://localhost:8080/"
        },
        "id": "5im3SdhdrVsC",
        "outputId": "478b8555-7024-40f9-dc8e-069707496b88"
      },
      "outputs": [
        {
          "name": "stdout",
          "output_type": "stream",
          "text": [
            "Collecting keras-tuner\n",
            "  Downloading keras_tuner-1.4.7-py3-none-any.whl (129 kB)\n",
            "\u001b[?25l     \u001b[90m━━━━━━━━━━━━━━━━━━━━━━━━━━━━━━━━━━━━━━━━\u001b[0m \u001b[32m0.0/129.1 kB\u001b[0m \u001b[31m?\u001b[0m eta \u001b[36m-:--:--\u001b[0m\r\u001b[2K     \u001b[91m━━━━━━━━━━━━\u001b[0m\u001b[91m╸\u001b[0m\u001b[90m━━━━━━━━━━━━━━━━━━━━━━━━━━━\u001b[0m \u001b[32m41.0/129.1 kB\u001b[0m \u001b[31m1.1 MB/s\u001b[0m eta \u001b[36m0:00:01\u001b[0m\r\u001b[2K     \u001b[90m━━━━━━━━━━━━━━━━━━━━━━━━━━━━━━━━━━━━━━━━\u001b[0m \u001b[32m129.1/129.1 kB\u001b[0m \u001b[31m2.1 MB/s\u001b[0m eta \u001b[36m0:00:00\u001b[0m\n",
            "\u001b[?25hRequirement already satisfied: keras in /usr/local/lib/python3.10/dist-packages (from keras-tuner) (2.15.0)\n",
            "Requirement already satisfied: packaging in /usr/local/lib/python3.10/dist-packages (from keras-tuner) (24.0)\n",
            "Requirement already satisfied: requests in /usr/local/lib/python3.10/dist-packages (from keras-tuner) (2.31.0)\n",
            "Collecting kt-legacy (from keras-tuner)\n",
            "  Downloading kt_legacy-1.0.5-py3-none-any.whl (9.6 kB)\n",
            "Requirement already satisfied: charset-normalizer<4,>=2 in /usr/local/lib/python3.10/dist-packages (from requests->keras-tuner) (3.3.2)\n",
            "Requirement already satisfied: idna<4,>=2.5 in /usr/local/lib/python3.10/dist-packages (from requests->keras-tuner) (3.6)\n",
            "Requirement already satisfied: urllib3<3,>=1.21.1 in /usr/local/lib/python3.10/dist-packages (from requests->keras-tuner) (2.0.7)\n",
            "Requirement already satisfied: certifi>=2017.4.17 in /usr/local/lib/python3.10/dist-packages (from requests->keras-tuner) (2024.2.2)\n",
            "Installing collected packages: kt-legacy, keras-tuner\n",
            "Successfully installed keras-tuner-1.4.7 kt-legacy-1.0.5\n"
          ]
        }
      ],
      "source": [
        "!pip install keras-tuner"
      ]
    },
    {
      "cell_type": "code",
      "execution_count": null,
      "metadata": {
        "id": "XumQyGb7mpeE"
      },
      "outputs": [],
      "source": [
        "from kerastuner.tuners import RandomSearch\n",
        "from kerastuner.engine.hyperparameters import HyperParameters\n",
        "from scipy.stats import randint\n",
        "import keras\n",
        "from keras.models import Sequential\n",
        "from keras.layers import Dense"
      ]
    },
    {
      "cell_type": "code",
      "execution_count": 20,
      "metadata": {
        "id": "Nmt-zgJWn4cX"
      },
      "outputs": [],
      "source": [
        "def Model(hp):\n",
        "    model = keras.Sequential()\n",
        "    model.add(keras.layers.Input(shape=(x1_train.shape[1],)))\n",
        "    model.add(keras.layers.Dense(units=hp.Int('units1', min_value=64, max_value=256, step=32),\n",
        "                                  activation=hp.Choice('activation1', values=['relu', 'sigmoid', 'elu'])))\n",
        "    model.add(keras.layers.Dense(units=hp.Int('units2', min_value=64, max_value=256, step=32),\n",
        "                                  activation=hp.Choice('activation1', values=['relu', 'sigmoid','elu'])))\n",
        "    model.add(keras.layers.Dense(units=hp.Int('units3', min_value=32, max_value=128, step=32),\n",
        "                                activation='relu'))\n",
        "    model.add(keras.layers.Dense(units=1, activation='linear'))\n",
        "    model.compile(optimizer='adam',\n",
        "                  loss='mean_squared_error',\n",
        "                  metrics=['mae'])\n",
        "    return model"
      ]
    },
    {
      "cell_type": "markdown",
      "metadata": {},
      "source": [
        "we use random search for hyper parameters because it is faster"
      ]
    },
    {
      "cell_type": "code",
      "execution_count": 30,
      "metadata": {
        "colab": {
          "base_uri": "https://localhost:8080/",
          "height": 1000
        },
        "id": "fk8Efzz1prY2",
        "outputId": "14b1bcc8-1612-415c-d859-c63d16d1386a"
      },
      "outputs": [
        {
          "name": "stdout",
          "output_type": "stream",
          "text": [
            "Reloading Tuner from /content/SMG/untitled_project/tuner0.json\n",
            "Best hyperparameters: <keras_tuner.src.engine.hyperparameters.hyperparameters.HyperParameters object at 0x7a3926069750>\n",
            "Best hyperparameters:\n",
            "{'units1': 256, 'activation1': 'relu', 'units2': 160, 'units3': 96}\n",
            "Epoch 1/100\n",
            "141/141 [==============================] - 2s 5ms/step - loss: 2042.8840 - mae: 33.6455\n",
            "Epoch 2/100\n",
            "141/141 [==============================] - 1s 4ms/step - loss: 1907.5729 - mae: 32.1620\n",
            "Epoch 3/100\n",
            "141/141 [==============================] - 1s 4ms/step - loss: 1868.2373 - mae: 31.6398\n",
            "Epoch 4/100\n",
            "141/141 [==============================] - 1s 4ms/step - loss: 1849.1377 - mae: 31.3551\n",
            "Epoch 5/100\n",
            "141/141 [==============================] - 1s 4ms/step - loss: 1839.0062 - mae: 31.1745\n",
            "Epoch 6/100\n",
            "141/141 [==============================] - 1s 4ms/step - loss: 1832.3605 - mae: 31.0543\n",
            "Epoch 7/100\n",
            "141/141 [==============================] - 1s 4ms/step - loss: 1825.7552 - mae: 30.9585\n",
            "Epoch 8/100\n",
            "141/141 [==============================] - 1s 4ms/step - loss: 1821.6570 - mae: 30.8901\n",
            "Epoch 9/100\n",
            "141/141 [==============================] - 1s 5ms/step - loss: 1816.3319 - mae: 30.8307\n",
            "Epoch 10/100\n",
            "141/141 [==============================] - 1s 6ms/step - loss: 1810.8950 - mae: 30.7640\n",
            "Epoch 11/100\n",
            "141/141 [==============================] - 1s 6ms/step - loss: 1805.0435 - mae: 30.7002\n",
            "Epoch 12/100\n",
            "141/141 [==============================] - 1s 4ms/step - loss: 1801.6132 - mae: 30.6595\n",
            "Epoch 13/100\n",
            "141/141 [==============================] - 1s 4ms/step - loss: 1796.0468 - mae: 30.5859\n",
            "Epoch 14/100\n",
            "141/141 [==============================] - 1s 4ms/step - loss: 1791.0126 - mae: 30.5268\n",
            "Epoch 15/100\n",
            "141/141 [==============================] - 1s 4ms/step - loss: 1786.8558 - mae: 30.4773\n",
            "Epoch 16/100\n",
            "141/141 [==============================] - 1s 4ms/step - loss: 1783.9696 - mae: 30.4368\n",
            "Epoch 17/100\n",
            "141/141 [==============================] - 1s 4ms/step - loss: 1780.9631 - mae: 30.3980\n",
            "Epoch 18/100\n",
            "141/141 [==============================] - 1s 4ms/step - loss: 1775.6505 - mae: 30.3375\n",
            "Epoch 19/100\n",
            "141/141 [==============================] - 1s 4ms/step - loss: 1774.4294 - mae: 30.3199\n",
            "Epoch 20/100\n",
            "141/141 [==============================] - 1s 4ms/step - loss: 1770.7346 - mae: 30.2752\n",
            "Epoch 21/100\n",
            "141/141 [==============================] - 1s 4ms/step - loss: 1768.3759 - mae: 30.2451\n",
            "Epoch 22/100\n",
            "141/141 [==============================] - 1s 4ms/step - loss: 1765.9060 - mae: 30.2080\n",
            "Epoch 23/100\n",
            "141/141 [==============================] - 1s 4ms/step - loss: 1763.6615 - mae: 30.1947\n",
            "Epoch 24/100\n",
            "141/141 [==============================] - 1s 4ms/step - loss: 1762.4176 - mae: 30.1695\n",
            "Epoch 25/100\n",
            "141/141 [==============================] - 1s 4ms/step - loss: 1761.1519 - mae: 30.1582\n",
            "Epoch 26/100\n",
            "141/141 [==============================] - 1s 4ms/step - loss: 1759.0662 - mae: 30.1261\n",
            "Epoch 27/100\n",
            "141/141 [==============================] - 1s 4ms/step - loss: 1756.6897 - mae: 30.1026\n",
            "Epoch 28/100\n",
            "141/141 [==============================] - 1s 4ms/step - loss: 1754.7810 - mae: 30.0747\n",
            "Epoch 29/100\n",
            "141/141 [==============================] - 1s 4ms/step - loss: 1754.2004 - mae: 30.0640\n",
            "Epoch 30/100\n",
            "141/141 [==============================] - 1s 5ms/step - loss: 1751.6278 - mae: 30.0381\n",
            "Epoch 31/100\n",
            "141/141 [==============================] - 1s 6ms/step - loss: 1750.8925 - mae: 30.0279\n",
            "Epoch 32/100\n",
            "141/141 [==============================] - 1s 5ms/step - loss: 1748.6104 - mae: 30.0019\n",
            "Epoch 33/100\n",
            "141/141 [==============================] - 1s 4ms/step - loss: 1747.7856 - mae: 29.9892\n",
            "Epoch 34/100\n",
            "141/141 [==============================] - 1s 4ms/step - loss: 1745.8776 - mae: 29.9680\n",
            "Epoch 35/100\n",
            "141/141 [==============================] - 1s 4ms/step - loss: 1743.6807 - mae: 29.9437\n",
            "Epoch 36/100\n",
            "141/141 [==============================] - 1s 4ms/step - loss: 1743.8511 - mae: 29.9381\n",
            "Epoch 37/100\n",
            "141/141 [==============================] - 1s 4ms/step - loss: 1744.3805 - mae: 29.9427\n",
            "Epoch 38/100\n",
            "141/141 [==============================] - 1s 4ms/step - loss: 1743.6204 - mae: 29.9334\n",
            "Epoch 39/100\n",
            "141/141 [==============================] - 1s 4ms/step - loss: 1740.2795 - mae: 29.9003\n",
            "Epoch 40/100\n",
            "141/141 [==============================] - 1s 4ms/step - loss: 1739.4756 - mae: 29.8905\n",
            "Epoch 41/100\n",
            "141/141 [==============================] - 1s 4ms/step - loss: 1740.4036 - mae: 29.8953\n",
            "Epoch 42/100\n",
            "141/141 [==============================] - 1s 4ms/step - loss: 1738.3755 - mae: 29.8754\n",
            "Epoch 43/100\n",
            "141/141 [==============================] - 1s 4ms/step - loss: 1736.9083 - mae: 29.8596\n",
            "Epoch 44/100\n",
            "141/141 [==============================] - 1s 4ms/step - loss: 1736.2188 - mae: 29.8447\n",
            "Epoch 45/100\n",
            "141/141 [==============================] - 1s 4ms/step - loss: 1735.1534 - mae: 29.8399\n",
            "Epoch 46/100\n",
            "141/141 [==============================] - 1s 4ms/step - loss: 1735.3699 - mae: 29.8341\n",
            "Epoch 47/100\n",
            "141/141 [==============================] - 1s 4ms/step - loss: 1734.1763 - mae: 29.8220\n",
            "Epoch 48/100\n",
            "141/141 [==============================] - 1s 4ms/step - loss: 1733.0504 - mae: 29.8084\n",
            "Epoch 49/100\n",
            "141/141 [==============================] - 1s 4ms/step - loss: 1733.8125 - mae: 29.8121\n",
            "Epoch 50/100\n",
            "141/141 [==============================] - 1s 5ms/step - loss: 1731.4586 - mae: 29.7873\n",
            "Epoch 51/100\n",
            "141/141 [==============================] - 1s 6ms/step - loss: 1730.8289 - mae: 29.7843\n",
            "Epoch 52/100\n",
            "141/141 [==============================] - 1s 6ms/step - loss: 1730.6626 - mae: 29.7750\n",
            "Epoch 53/100\n",
            "141/141 [==============================] - 1s 4ms/step - loss: 1730.1245 - mae: 29.7735\n",
            "Epoch 54/100\n",
            "141/141 [==============================] - 1s 4ms/step - loss: 1729.6826 - mae: 29.7661\n",
            "Epoch 55/100\n",
            "141/141 [==============================] - 1s 4ms/step - loss: 1730.1573 - mae: 29.7743\n",
            "Epoch 56/100\n",
            "141/141 [==============================] - 1s 4ms/step - loss: 1727.3265 - mae: 29.7350\n",
            "Epoch 57/100\n",
            "141/141 [==============================] - 1s 4ms/step - loss: 1727.4434 - mae: 29.7368\n",
            "Epoch 58/100\n",
            "141/141 [==============================] - 1s 4ms/step - loss: 1724.2008 - mae: 29.6964\n",
            "Epoch 66/100\n",
            "141/141 [==============================] - 1s 4ms/step - loss: 1722.8650 - mae: 29.6804\n",
            "Epoch 67/100\n",
            "141/141 [==============================] - 1s 4ms/step - loss: 1724.7823 - mae: 29.7063\n",
            "Epoch 68/100\n",
            "141/141 [==============================] - 1s 4ms/step - loss: 1722.4515 - mae: 29.6728\n",
            "Epoch 69/100\n",
            "141/141 [==============================] - 1s 4ms/step - loss: 1721.9786 - mae: 29.6713\n",
            "Epoch 70/100\n",
            "141/141 [==============================] - 1s 5ms/step - loss: 1721.3473 - mae: 29.6637\n",
            "Epoch 71/100\n",
            "141/141 [==============================] - 1s 6ms/step - loss: 1721.0647 - mae: 29.6537\n",
            "Epoch 72/100\n",
            "141/141 [==============================] - 1s 6ms/step - loss: 1719.3632 - mae: 29.6448\n",
            "Epoch 73/100\n",
            "141/141 [==============================] - 1s 4ms/step - loss: 1720.3134 - mae: 29.6494\n",
            "Epoch 74/100\n",
            "141/141 [==============================] - 1s 4ms/step - loss: 1719.3899 - mae: 29.6416\n",
            "Epoch 75/100\n",
            "141/141 [==============================] - 1s 4ms/step - loss: 1719.1804 - mae: 29.6324\n",
            "Epoch 76/100\n",
            "141/141 [==============================] - 1s 4ms/step - loss: 1717.8162 - mae: 29.6228\n",
            "Epoch 77/100\n",
            "141/141 [==============================] - 1s 4ms/step - loss: 1718.7949 - mae: 29.6309\n",
            "Epoch 78/100\n",
            "141/141 [==============================] - 1s 4ms/step - loss: 1718.5762 - mae: 29.6291\n",
            "Epoch 79/100\n",
            "141/141 [==============================] - 1s 4ms/step - loss: 1717.4541 - mae: 29.6156\n",
            "Epoch 80/100\n",
            "141/141 [==============================] - 1s 4ms/step - loss: 1716.8820 - mae: 29.6067\n",
            "Epoch 81/100\n",
            "141/141 [==============================] - 1s 4ms/step - loss: 1716.8759 - mae: 29.6132\n",
            "Epoch 82/100\n",
            "141/141 [==============================] - 1s 4ms/step - loss: 1715.0970 - mae: 29.5930\n",
            "Epoch 83/100\n",
            "141/141 [==============================] - 1s 4ms/step - loss: 1717.8538 - mae: 29.6120\n",
            "Epoch 84/100\n",
            "141/141 [==============================] - 1s 4ms/step - loss: 1713.8075 - mae: 29.5784\n",
            "Epoch 85/100\n",
            "141/141 [==============================] - 1s 4ms/step - loss: 1715.1587 - mae: 29.5901\n",
            "Epoch 86/100\n",
            "141/141 [==============================] - 1s 4ms/step - loss: 1714.4866 - mae: 29.5828\n",
            "Epoch 87/100\n",
            "141/141 [==============================] - 1s 4ms/step - loss: 1714.1802 - mae: 29.5764\n",
            "Epoch 88/100\n",
            "141/141 [==============================] - 1s 4ms/step - loss: 1713.7349 - mae: 29.5761\n",
            "Epoch 89/100\n",
            "141/141 [==============================] - 1s 4ms/step - loss: 1713.6886 - mae: 29.5738\n",
            "Epoch 90/100\n",
            "141/141 [==============================] - 1s 4ms/step - loss: 1714.9828 - mae: 29.5881\n",
            "Epoch 91/100\n",
            "141/141 [==============================] - 1s 6ms/step - loss: 1712.3828 - mae: 29.5604\n",
            "Epoch 92/100\n",
            "141/141 [==============================] - 1s 6ms/step - loss: 1712.6923 - mae: 29.5642\n",
            "Epoch 93/100\n",
            "141/141 [==============================] - 1s 5ms/step - loss: 1711.8990 - mae: 29.5623\n",
            "Epoch 94/100\n",
            "141/141 [==============================] - 1s 4ms/step - loss: 1712.4497 - mae: 29.5577\n",
            "Epoch 95/100\n",
            "141/141 [==============================] - 1s 4ms/step - loss: 1711.4893 - mae: 29.5486\n",
            "Epoch 96/100\n",
            "141/141 [==============================] - 1s 4ms/step - loss: 1711.6699 - mae: 29.5545\n",
            "Epoch 97/100\n",
            "141/141 [==============================] - 1s 4ms/step - loss: 1710.8328 - mae: 29.5502\n",
            "Epoch 98/100\n",
            "141/141 [==============================] - 1s 4ms/step - loss: 1710.7935 - mae: 29.5442\n",
            "Epoch 99/100\n",
            "141/141 [==============================] - 1s 4ms/step - loss: 1709.6880 - mae: 29.5319\n",
            "Epoch 100/100\n",
            "141/141 [==============================] - 1s 4ms/step - loss: 1710.8755 - mae: 29.5393\n"
          ]
        },
        {
          "data": {
            "image/png": "[encoded data removed]",
            "text/plain": [
              "<Figure size 640x480 with 1 Axes>"
            ]
          },
          "metadata": {},
          "output_type": "display_data"
        },
        {
          "data": {
            "image/png": "[encoded data removed]",
            "text/plain": [
              "<Figure size 640x480 with 1 Axes>"
            ]
          },
          "metadata": {},
          "output_type": "display_data"
        }
      ],
      "source": [
        "# Define the search space\n",
        "tuner = RandomSearch(\n",
        "    Model,\n",
        "    objective='val_mae',\n",
        "    max_trials=20,  # Number of search trials\n",
        "    directory='/content/SMG',  # Directory to save the search results\n",
        ")\n",
        "\n",
        "# Perform the hyperparameter search\n",
        "tuner.search(x1_train, y1_train, epochs=25, batch_size =8000, validation_split=0.15)\n",
        "\n",
        "# Get the best hyperparameters\n",
        "best_hp = tuner.get_best_hyperparameters(num_trials=20)[0]\n",
        "print(f\"Best hyperparameters: {best_hp}\")\n",
        "print(\"Best hyperparameters:\")\n",
        "print(best_hp.values)\n",
        "\n",
        "# Build the model with the best hyperparameters and train it\n",
        "model = tuner.hypermodel.build(best_hp)\n",
        "history = model.fit(x1_train, y1_train, epochs=100, batch_size =8000)\n",
        "model.save(\"model_q6_b1.h5\")\n",
        "\n",
        "# Plot MAE\n",
        "plt.plot(history.history['mae'], label='MAE')\n",
        "plt.title('Mean Absolute Error (MAE)')\n",
        "plt.xlabel('Epoch')\n",
        "plt.ylabel('MAE')\n",
        "plt.legend()\n",
        "plt.show()\n",
        "\n",
        "# Plot loss\n",
        "plt.plot(history.history['loss'], label='Loss')\n",
        "plt.title('Loss')\n",
        "plt.xlabel('Epoch')\n",
        "plt.ylabel('Loss')\n",
        "plt.legend()\n",
        "plt.show()"
      ]
    },
    {
      "cell_type": "code",
      "execution_count": 22,
      "metadata": {
        "id": "NMJA8x0Dy_pj"
      },
      "outputs": [],
      "source": [
        "x_train = channel_val[:, :4]\n",
        "y_train = channel_val[:,4]\n",
        "\n",
        "length = len(channel_val)\n",
        "df = 10\n",
        "\n",
        "X = []\n",
        "Y = []\n",
        "\n",
        "for i in range(length - df):\n",
        "    x = np.concatenate([x_train[i+j] for j in range(df)])\n",
        "    X.append(x)\n",
        "    Y.append(y_train[i + df])\n",
        "\n",
        "X = np.array(X)\n",
        "Y = np.array(Y)\n",
        "\n",
        "x2_train = X\n",
        "y2_train = Y"
      ]
    },
    {
      "cell_type": "code",
      "execution_count": 23,
      "metadata": {
        "colab": {
          "base_uri": "https://localhost:8080/"
        },
        "id": "SIEaRIxbzKpI",
        "outputId": "4153c72c-6849-41ec-e3bd-679b2caa43a6"
      },
      "outputs": [
        {
          "data": {
            "text/plain": [
              "(1325035, 40)"
            ]
          },
          "execution_count": 23,
          "metadata": {},
          "output_type": "execute_result"
        }
      ],
      "source": [
        "x2_train.shape"
      ]
    },
    {
      "cell_type": "code",
      "execution_count": 24,
      "metadata": {
        "colab": {
          "base_uri": "https://localhost:8080/"
        },
        "id": "Xec_W6ArzXiI",
        "outputId": "7edd0971-5910-4db1-be0a-2649a9ae2a6d"
      },
      "outputs": [
        {
          "data": {
            "text/plain": [
              "(1325035,)"
            ]
          },
          "execution_count": 24,
          "metadata": {},
          "output_type": "execute_result"
        }
      ],
      "source": [
        "y2_train.shape"
      ]
    },
    {
      "cell_type": "code",
      "execution_count": 25,
      "metadata": {
        "id": "VyVoTW0JzZ0q"
      },
      "outputs": [],
      "source": [
        "# Split the data into training and testing sets\n",
        "x2_train, x2_val, y2_train, y2_val = train_test_split(x2_train, y2_train, test_size=0.15, random_state=42)\n",
        "\n",
        "# scaling train data\n",
        "scaler = StandardScaler()\n",
        "x2_train = scaler.fit_transform(x2_train)\n",
        "x2_val = scaler.transform(x2_val)"
      ]
    },
    {
      "cell_type": "code",
      "execution_count": 26,
      "metadata": {
        "id": "-Jkvu3cGzjS3"
      },
      "outputs": [],
      "source": [
        "def Model2(hp):\n",
        "    model = keras.Sequential()\n",
        "    model.add(keras.layers.Input(shape=(x2_train.shape[1],)))\n",
        "    model.add(keras.layers.Dense(units=hp.Int('units1', min_value=64, max_value=256, step=32),\n",
        "                                  activation=hp.Choice('activation1', values=['relu', 'sigmoid', 'elu'])))\n",
        "    model.add(keras.layers.Dense(units=hp.Int('units2', min_value=64, max_value=256, step=32),\n",
        "                                  activation=hp.Choice('activation1', values=['relu', 'sigmoid','elu'])))\n",
        "    model.add(keras.layers.Dense(units=hp.Int('units3', min_value=32, max_value=128, step=32),\n",
        "                                activation='relu'))\n",
        "    model.add(keras.layers.Dense(units=1, activation='linear'))\n",
        "    model.compile(optimizer='adam',\n",
        "                  loss='mean_squared_error',\n",
        "                  metrics=['mae'])\n",
        "    return model"
      ]
    },
    {
      "cell_type": "code",
      "execution_count": 29,
      "metadata": {
        "colab": {
          "base_uri": "https://localhost:8080/",
          "height": 1000
        },
        "id": "kTRCFWWBzq_K",
        "outputId": "006cc8cf-1b56-4eba-adc5-d3e94d868be8"
      },
      "outputs": [
        {
          "name": "stdout",
          "output_type": "stream",
          "text": [
            "Reloading Tuner from /content/SMG/untitled_project/tuner0.json\n",
            "Best hyperparameters: <keras_tuner.src.engine.hyperparameters.hyperparameters.HyperParameters object at 0x7a392fac26b0>\n",
            "Best hyperparameters:\n",
            "{'units1': 256, 'activation1': 'relu', 'units2': 160, 'units3': 96}\n",
            "Epoch 1/100\n",
            "141/141 [==============================] - 3s 9ms/step - loss: 2012.2932 - mae: 33.2799\n",
            "Epoch 2/100\n",
            "141/141 [==============================] - 1s 10ms/step - loss: 1821.1273 - mae: 31.1158\n",
            "Epoch 3/100\n",
            "141/141 [==============================] - 1s 5ms/step - loss: 1754.6895 - mae: 30.3172\n",
            "Epoch 4/100\n",
            "141/141 [==============================] - 1s 4ms/step - loss: 1698.0774 - mae: 29.7168\n",
            "Epoch 5/100\n",
            "141/141 [==============================] - 1s 4ms/step - loss: 1650.9666 - mae: 29.2431\n",
            "Epoch 6/100\n",
            "141/141 [==============================] - 1s 4ms/step - loss: 1616.5553 - mae: 28.8757\n",
            "Epoch 7/100\n",
            "141/141 [==============================] - 1s 4ms/step - loss: 1591.9381 - mae: 28.6165\n",
            "Epoch 8/100\n",
            "141/141 [==============================] - 1s 4ms/step - loss: 1572.1719 - mae: 28.3907\n",
            "Epoch 9/100\n",
            "141/141 [==============================] - 1s 4ms/step - loss: 1553.0596 - mae: 28.1936\n",
            "Epoch 10/100\n",
            "141/141 [==============================] - 1s 4ms/step - loss: 1537.3169 - mae: 28.0151\n",
            "Epoch 11/100\n",
            "141/141 [==============================] - 1s 4ms/step - loss: 1522.5228 - mae: 27.8624\n",
            "Epoch 12/100\n",
            "141/141 [==============================] - 1s 4ms/step - loss: 1509.2452 - mae: 27.7140\n",
            "Epoch 13/100\n",
            "141/141 [==============================] - 1s 4ms/step - loss: 1498.3624 - mae: 27.5930\n",
            "Epoch 14/100\n",
            "141/141 [==============================] - 1s 4ms/step - loss: 1486.8254 - mae: 27.4666\n",
            "Epoch 15/100\n",
            "141/141 [==============================] - 1s 4ms/step - loss: 1477.0784 - mae: 27.3506\n",
            "Epoch 16/100\n",
            "141/141 [==============================] - 1s 4ms/step - loss: 1468.3552 - mae: 27.2538\n",
            "Epoch 17/100\n",
            "141/141 [==============================] - 1s 4ms/step - loss: 1459.8281 - mae: 27.1515\n",
            "Epoch 18/100\n",
            "141/141 [==============================] - 1s 4ms/step - loss: 1451.2915 - mae: 27.0548\n",
            "Epoch 19/100\n",
            "141/141 [==============================] - 1s 5ms/step - loss: 1443.6669 - mae: 26.9661\n",
            "Epoch 20/100\n",
            "141/141 [==============================] - 1s 6ms/step - loss: 1437.5886 - mae: 26.8866\n",
            "Epoch 21/100\n",
            "141/141 [==============================] - 1s 6ms/step - loss: 1431.1144 - mae: 26.8089\n",
            "Epoch 22/100\n",
            "141/141 [==============================] - 1s 4ms/step - loss: 1425.3978 - mae: 26.7446\n",
            "Epoch 23/100\n",
            "141/141 [==============================] - 1s 4ms/step - loss: 1417.9581 - mae: 26.6666\n",
            "Epoch 24/100\n",
            "141/141 [==============================] - 1s 4ms/step - loss: 1412.3082 - mae: 26.5951\n",
            "Epoch 25/100\n",
            "141/141 [==============================] - 1s 4ms/step - loss: 1407.4056 - mae: 26.5402\n",
            "Epoch 26/100\n",
            "141/141 [==============================] - 1s 4ms/step - loss: 1402.2190 - mae: 26.4750\n",
            "Epoch 27/100\n",
            "141/141 [==============================] - 1s 4ms/step - loss: 1397.1963 - mae: 26.4199\n",
            "Epoch 28/100\n",
            "141/141 [==============================] - 1s 4ms/step - loss: 1393.1412 - mae: 26.3678\n",
            "Epoch 29/100\n",
            "141/141 [==============================] - 1s 4ms/step - loss: 1389.0112 - mae: 26.3282\n",
            "Epoch 30/100\n",
            "141/141 [==============================] - 1s 4ms/step - loss: 1382.9998 - mae: 26.2665\n",
            "Epoch 31/100\n",
            "141/141 [==============================] - 1s 4ms/step - loss: 1378.9949 - mae: 26.2174\n",
            "Epoch 32/100\n",
            "141/141 [==============================] - 1s 4ms/step - loss: 1374.9939 - mae: 26.1695\n",
            "Epoch 33/100\n",
            "141/141 [==============================] - 1s 4ms/step - loss: 1371.6268 - mae: 26.1322\n",
            "Epoch 34/100\n",
            "141/141 [==============================] - 1s 4ms/step - loss: 1366.2690 - mae: 26.0674\n",
            "Epoch 35/100\n",
            "141/141 [==============================] - 1s 4ms/step - loss: 1364.5179 - mae: 26.0523\n",
            "Epoch 36/100\n",
            "141/141 [==============================] - 1s 4ms/step - loss: 1358.9406 - mae: 25.9857\n",
            "Epoch 37/100\n",
            "141/141 [==============================] - 1s 4ms/step - loss: 1357.3722 - mae: 25.9696\n",
            "Epoch 38/100\n",
            "141/141 [==============================] - 1s 5ms/step - loss: 1352.1558 - mae: 25.9124\n",
            "Epoch 39/100\n",
            "141/141 [==============================] - 1s 6ms/step - loss: 1348.9580 - mae: 25.8788\n",
            "Epoch 40/100\n",
            "141/141 [==============================] - 1s 6ms/step - loss: 1345.8333 - mae: 25.8411\n",
            "Epoch 41/100\n",
            "141/141 [==============================] - 1s 4ms/step - loss: 1342.2299 - mae: 25.8062\n",
            "Epoch 42/100\n",
            "141/141 [==============================] - 1s 4ms/step - loss: 1338.4766 - mae: 25.7712\n",
            "Epoch 43/100\n",
            "141/141 [==============================] - 1s 4ms/step - loss: 1336.0217 - mae: 25.7332\n",
            "Epoch 44/100\n",
            "141/141 [==============================] - 1s 4ms/step - loss: 1333.1117 - mae: 25.7108\n",
            "Epoch 45/100\n",
            "141/141 [==============================] - 1s 4ms/step - loss: 1328.7513 - mae: 25.6602\n",
            "Epoch 46/100\n",
            "141/141 [==============================] - 1s 4ms/step - loss: 1328.0096 - mae: 25.6482\n",
            "Epoch 47/100\n",
            "141/141 [==============================] - 1s 4ms/step - loss: 1323.5358 - mae: 25.6062\n",
            "Epoch 48/100\n",
            "141/141 [==============================] - 1s 4ms/step - loss: 1322.4377 - mae: 25.5957\n",
            "Epoch 49/100\n",
            "141/141 [==============================] - 1s 4ms/step - loss: 1318.9463 - mae: 25.5539\n",
            "Epoch 50/100\n",
            "141/141 [==============================] - 1s 4ms/step - loss: 1315.7245 - mae: 25.5248\n",
            "Epoch 51/100\n",
            "141/141 [==============================] - 1s 4ms/step - loss: 1314.6025 - mae: 25.5082\n",
            "Epoch 52/100\n",
            "141/141 [==============================] - 1s 4ms/step - loss: 1311.8846 - mae: 25.4797\n",
            "Epoch 53/100\n",
            "141/141 [==============================] - 1s 4ms/step - loss: 1309.0563 - mae: 25.4591\n",
            "Epoch 54/100\n",
            "141/141 [==============================] - 1s 4ms/step - loss: 1308.0104 - mae: 25.4363\n",
            "Epoch 55/100\n",
            "141/141 [==============================] - 1s 4ms/step - loss: 1304.9193 - mae: 25.4041\n",
            "Epoch 56/100\n",
            "141/141 [==============================] - 1s 4ms/step - loss: 1300.9636 - mae: 25.3691\n",
            "Epoch 57/100\n",
            "141/141 [==============================] - 1s 6ms/step - loss: 1297.8104 - mae: 25.3417\n",
            "Epoch 58/100\n",
            "141/141 [==============================] - 1s 7ms/step - loss: 1297.2013 - mae: 25.3201\n",
            "Epoch 59/100\n",
            "141/141 [==============================] - 1s 6ms/step - loss: 1294.1289 - mae: 25.2932\n",
            "Epoch 60/100\n",
            "141/141 [==============================] - 1s 4ms/step - loss: 1290.2698 - mae: 25.2514\n",
            "Epoch 61/100\n",
            "141/141 [==============================] - 1s 4ms/step - loss: 1291.5563 - mae: 25.2652\n",
            "Epoch 62/100\n",
            "141/141 [==============================] - 1s 4ms/step - loss: 1288.1805 - mae: 25.2374\n",
            "Epoch 63/100\n",
            "141/141 [==============================] - 1s 4ms/step - loss: 1285.1135 - mae: 25.1971\n",
            "Epoch 64/100\n",
            "141/141 [==============================] - 1s 4ms/step - loss: 1286.4395 - mae: 25.2105\n",
            "Epoch 65/100\n",
            "141/141 [==============================] - 1s 4ms/step - loss: 1279.6567 - mae: 25.1440\n",
            "Epoch 66/100\n",
            "141/141 [==============================] - 1s 4ms/step - loss: 1282.1204 - mae: 25.1650\n",
            "Epoch 67/100\n",
            "141/141 [==============================] - 1s 4ms/step - loss: 1276.3174 - mae: 25.1001\n",
            "Epoch 68/100\n",
            "141/141 [==============================] - 1s 4ms/step - loss: 1276.5016 - mae: 25.1063\n",
            "Epoch 69/100\n",
            "141/141 [==============================] - 1s 4ms/step - loss: 1273.9675 - mae: 25.0805\n",
            "Epoch 70/100\n",
            "141/141 [==============================] - 1s 4ms/step - loss: 1271.2437 - mae: 25.0523\n",
            "Epoch 71/100\n",
            "141/141 [==============================] - 1s 4ms/step - loss: 1266.8640 - mae: 25.0097\n",
            "Epoch 72/100\n",
            "141/141 [==============================] - 1s 4ms/step - loss: 1268.0743 - mae: 25.0161\n",
            "Epoch 73/100\n",
            "141/141 [==============================] - 1s 4ms/step - loss: 1266.6392 - mae: 25.0090\n",
            "Epoch 74/100\n",
            "141/141 [==============================] - 1s 4ms/step - loss: 1263.4779 - mae: 24.9712\n",
            "Epoch 75/100\n",
            "141/141 [==============================] - 1s 5ms/step - loss: 1261.6229 - mae: 24.9511\n",
            "Epoch 76/100\n",
            "141/141 [==============================] - 1s 7ms/step - loss: 1259.6663 - mae: 24.9295\n",
            "Epoch 77/100\n",
            "141/141 [==============================] - 1s 6ms/step - loss: 1257.5908 - mae: 24.9059\n",
            "Epoch 78/100\n",
            "141/141 [==============================] - 1s 4ms/step - loss: 1256.5836 - mae: 24.8971\n",
            "Epoch 79/100\n",
            "141/141 [==============================] - 1s 4ms/step - loss: 1253.1277 - mae: 24.8573\n",
            "Epoch 80/100\n",
            "141/141 [==============================] - 1s 4ms/step - loss: 1252.1024 - mae: 24.8405\n",
            "Epoch 81/100\n",
            "141/141 [==============================] - 1s 4ms/step - loss: 1249.4075 - mae: 24.8178\n",
            "Epoch 82/100\n",
            "141/141 [==============================] - 1s 5ms/step - loss: 1249.6831 - mae: 24.8235\n",
            "Epoch 83/100\n",
            "141/141 [==============================] - 1s 4ms/step - loss: 1249.2094 - mae: 24.8104\n",
            "Epoch 84/100\n",
            "141/141 [==============================] - 1s 4ms/step - loss: 1243.5862 - mae: 24.7542\n",
            "Epoch 85/100\n",
            "141/141 [==============================] - 1s 4ms/step - loss: 1245.3812 - mae: 24.7730\n",
            "Epoch 86/100\n",
            "141/141 [==============================] - 1s 4ms/step - loss: 1242.0029 - mae: 24.7324\n",
            "Epoch 87/100\n",
            "141/141 [==============================] - 1s 4ms/step - loss: 1242.9136 - mae: 24.7421\n",
            "Epoch 88/100\n",
            "141/141 [==============================] - 1s 4ms/step - loss: 1240.3484 - mae: 24.7106\n",
            "Epoch 89/100\n",
            "141/141 [==============================] - 1s 4ms/step - loss: 1239.5398 - mae: 24.7031\n",
            "Epoch 90/100\n",
            "141/141 [==============================] - 1s 4ms/step - loss: 1235.7122 - mae: 24.6748\n",
            "Epoch 91/100\n",
            "141/141 [==============================] - 1s 4ms/step - loss: 1234.2954 - mae: 24.6560\n",
            "Epoch 92/100\n",
            "141/141 [==============================] - 1s 4ms/step - loss: 1233.1027 - mae: 24.6359\n",
            "Epoch 93/100\n",
            "141/141 [==============================] - 1s 5ms/step - loss: 1233.6748 - mae: 24.6476\n",
            "Epoch 94/100\n",
            "141/141 [==============================] - 1s 6ms/step - loss: 1232.6036 - mae: 24.6304\n",
            "Epoch 95/100\n",
            "141/141 [==============================] - 1s 7ms/step - loss: 1228.3066 - mae: 24.5854\n",
            "Epoch 96/100\n",
            "141/141 [==============================] - 1s 5ms/step - loss: 1228.6251 - mae: 24.5907\n",
            "Epoch 97/100\n",
            "141/141 [==============================] - 1s 4ms/step - loss: 1226.3549 - mae: 24.5736\n",
            "Epoch 98/100\n",
            "141/141 [==============================] - 1s 5ms/step - loss: 1224.3973 - mae: 24.5466\n",
            "Epoch 99/100\n",
            "141/141 [==============================] - 1s 4ms/step - loss: 1222.7490 - mae: 24.5316\n",
            "Epoch 100/100\n",
            "141/141 [==============================] - 1s 4ms/step - loss: 1220.3110 - mae: 24.5078\n"
          ]
        },
        {
          "data": {
            "image/png": "[encoded data removed]",
            "text/plain": [
              "<Figure size 640x480 with 1 Axes>"
            ]
          },
          "metadata": {},
          "output_type": "display_data"
        },
        {
          "data": {
            "image/png": "[encoded data removed]",
            "text/plain": [
              "<Figure size 640x480 with 1 Axes>"
            ]
          },
          "metadata": {},
          "output_type": "display_data"
        }
      ],
      "source": [
        "# Define the search space\n",
        "tuner = RandomSearch(\n",
        "    Model2,\n",
        "    objective='val_mae',\n",
        "    max_trials=20,  # Number of search trials\n",
        "    directory='/content/SMG',  # Directory to save the search results\n",
        ")\n",
        "\n",
        "# Perform the hyperparameter search\n",
        "tuner.search(x2_train, y2_train, epochs=25, batch_size =8000, validation_split=0.15)\n",
        "\n",
        "# Get the best hyperparameters\n",
        "best_hp = tuner.get_best_hyperparameters(num_trials=20)[0]\n",
        "print(f\"Best hyperparameters: {best_hp}\")\n",
        "print(\"Best hyperparameters:\")\n",
        "print(best_hp.values)\n",
        "\n",
        "# Build the model with the best hyperparameters and train it\n",
        "model = tuner.hypermodel.build(best_hp)\n",
        "history = model.fit(x2_train, y2_train, epochs=100, batch_size =8000)\n",
        "model.save(\"model_q6_b2.h5\")\n",
        "\n",
        "# Plot MAE\n",
        "plt.plot(history.history['mae'], label='MAE')\n",
        "plt.title('Mean Absolute Error (MAE)')\n",
        "plt.xlabel('Epoch')\n",
        "plt.ylabel('MAE')\n",
        "plt.legend()\n",
        "plt.show()\n",
        "\n",
        "# Plot loss\n",
        "plt.plot(history.history['loss'], label='Loss')\n",
        "plt.title('Loss')\n",
        "plt.xlabel('Epoch')\n",
        "plt.ylabel('Loss')\n",
        "plt.legend()\n",
        "plt.show()"
      ]
    },
    {
      "cell_type": "markdown",
      "metadata": {},
      "source": [
        "we see that change df from 2 to 10 can give us better network and loss,MAE is lower "
      ]
    }
  ],
  "metadata": {
    "accelerator": "GPU",
    "colab": {
      "gpuType": "T4",
      "provenance": []
    },
    "kernelspec": {
      "display_name": "Python 3",
      "name": "python3"
    },
    "language_info": {
      "name": "python"
    }
  },
  "nbformat": 4,
  "nbformat_minor": 0
}
